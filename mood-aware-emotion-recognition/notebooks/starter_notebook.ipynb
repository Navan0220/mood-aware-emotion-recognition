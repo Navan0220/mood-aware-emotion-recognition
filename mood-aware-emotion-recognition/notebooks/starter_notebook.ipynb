{
 "cells": [
  {
   "cell_type": "markdown",
   "metadata": {},
   "source": ["# Starter Notebook"]
  },
  {
   "cell_type": "code",
   "execution_count": null,
   "metadata": {},
   "outputs": [],
   "source": ["print('Notebook ready!')"]
  }
 ],
 "metadata": {},
 "nbformat": 4,
 "nbformat_minor": 2
}